{
 "cells": [
  {
   "cell_type": "code",
   "execution_count": 2,
   "id": "ddd53951",
   "metadata": {},
   "outputs": [],
   "source": [
    "with open('smartprix.html','r',encoding='utf-8') as f:\n",
    "    html = f.read()"
   ]
  },
  {
   "cell_type": "code",
   "execution_count": 31,
   "id": "c4096bba",
   "metadata": {},
   "outputs": [],
   "source": [
    "from bs4 import BeautifulSoup\n",
    "import numpy as np\n",
    "import pandas as pd"
   ]
  },
  {
   "cell_type": "code",
   "execution_count": 32,
   "id": "65b6b328",
   "metadata": {},
   "outputs": [],
   "source": [
    "soup = BeautifulSoup(html,'lxml')"
   ]
  },
  {
   "cell_type": "code",
   "execution_count": 33,
   "id": "004720a4",
   "metadata": {},
   "outputs": [],
   "source": [
    "containers = soup.find_all('div',{'class':'sm-product has-tag has-features has-actions'})"
   ]
  },
  {
   "cell_type": "code",
   "execution_count": 34,
   "id": "a9cfd2a2",
   "metadata": {
    "scrolled": false
   },
   "outputs": [],
   "source": [
    "name = []\n",
    "price = []\n",
    "specs = []\n",
    "for i in containers:\n",
    "    name.append(i.find('h2').text) # smartphones name\n",
    "    price.append(i.find('span',{'class':'price'}).text) # price\n",
    "    try:\n",
    "        specs.append(i.find('div',{'class':'score rank-2-bg'}).find('b').text) # spec score\n",
    "    except:\n",
    "        specs.append(np.nan)"
   ]
  },
  {
   "cell_type": "code",
   "execution_count": 35,
   "id": "3d2a56e6",
   "metadata": {},
   "outputs": [
    {
     "data": {
      "text/html": [
       "<div>\n",
       "<style scoped>\n",
       "    .dataframe tbody tr th:only-of-type {\n",
       "        vertical-align: middle;\n",
       "    }\n",
       "\n",
       "    .dataframe tbody tr th {\n",
       "        vertical-align: top;\n",
       "    }\n",
       "\n",
       "    .dataframe thead th {\n",
       "        text-align: right;\n",
       "    }\n",
       "</style>\n",
       "<table border=\"1\" class=\"dataframe\">\n",
       "  <thead>\n",
       "    <tr style=\"text-align: right;\">\n",
       "      <th></th>\n",
       "      <th>model</th>\n",
       "      <th>price</th>\n",
       "      <th>rating</th>\n",
       "    </tr>\n",
       "  </thead>\n",
       "  <tbody>\n",
       "    <tr>\n",
       "      <th>0</th>\n",
       "      <td>OnePlus Nord CE 2 Lite 5G</td>\n",
       "      <td>₹18,999</td>\n",
       "      <td>81</td>\n",
       "    </tr>\n",
       "    <tr>\n",
       "      <th>1</th>\n",
       "      <td>Samsung Galaxy A14 5G</td>\n",
       "      <td>₹16,499</td>\n",
       "      <td>75</td>\n",
       "    </tr>\n",
       "    <tr>\n",
       "      <th>2</th>\n",
       "      <td>Motorola Moto G62 5G</td>\n",
       "      <td>₹14,999</td>\n",
       "      <td>81</td>\n",
       "    </tr>\n",
       "    <tr>\n",
       "      <th>3</th>\n",
       "      <td>Realme 10 Pro Plus</td>\n",
       "      <td>₹24,999</td>\n",
       "      <td>82</td>\n",
       "    </tr>\n",
       "    <tr>\n",
       "      <th>4</th>\n",
       "      <td>Apple iPhone 14</td>\n",
       "      <td>₹72,990</td>\n",
       "      <td>81</td>\n",
       "    </tr>\n",
       "    <tr>\n",
       "      <th>...</th>\n",
       "      <td>...</td>\n",
       "      <td>...</td>\n",
       "      <td>...</td>\n",
       "    </tr>\n",
       "    <tr>\n",
       "      <th>855</th>\n",
       "      <td>Xiaomi Redmi Y2 (4GB RAM + 64GB)</td>\n",
       "      <td>₹13,499</td>\n",
       "      <td>67</td>\n",
       "    </tr>\n",
       "    <tr>\n",
       "      <th>856</th>\n",
       "      <td>Vivo Y71 (4GB RAM)</td>\n",
       "      <td>₹18,000</td>\n",
       "      <td>NaN</td>\n",
       "    </tr>\n",
       "    <tr>\n",
       "      <th>857</th>\n",
       "      <td>Xiaomi Redmi 5</td>\n",
       "      <td>₹9,999</td>\n",
       "      <td>63</td>\n",
       "    </tr>\n",
       "    <tr>\n",
       "      <th>858</th>\n",
       "      <td>Vivo V7</td>\n",
       "      <td>₹13,990</td>\n",
       "      <td>63</td>\n",
       "    </tr>\n",
       "    <tr>\n",
       "      <th>859</th>\n",
       "      <td>Micromax Bharat 2 Plus</td>\n",
       "      <td>₹3,290</td>\n",
       "      <td>NaN</td>\n",
       "    </tr>\n",
       "  </tbody>\n",
       "</table>\n",
       "<p>860 rows × 3 columns</p>\n",
       "</div>"
      ],
      "text/plain": [
       "                                model    price rating\n",
       "0           OnePlus Nord CE 2 Lite 5G  ₹18,999     81\n",
       "1               Samsung Galaxy A14 5G  ₹16,499     75\n",
       "2                Motorola Moto G62 5G  ₹14,999     81\n",
       "3                  Realme 10 Pro Plus  ₹24,999     82\n",
       "4                     Apple iPhone 14  ₹72,990     81\n",
       "..                                ...      ...    ...\n",
       "855  Xiaomi Redmi Y2 (4GB RAM + 64GB)  ₹13,499     67\n",
       "856                Vivo Y71 (4GB RAM)  ₹18,000    NaN\n",
       "857                    Xiaomi Redmi 5   ₹9,999     63\n",
       "858                           Vivo V7  ₹13,990     63\n",
       "859            Micromax Bharat 2 Plus   ₹3,290    NaN\n",
       "\n",
       "[860 rows x 3 columns]"
      ]
     },
     "execution_count": 35,
     "metadata": {},
     "output_type": "execute_result"
    }
   ],
   "source": [
    "pd.DataFrame({'model':name,\n",
    "            'price':price,\n",
    "            'rating':specs})"
   ]
  },
  {
   "cell_type": "code",
   "execution_count": null,
   "id": "97a18f29",
   "metadata": {},
   "outputs": [],
   "source": [
    "# battery\n",
    "#display\n",
    "#camera\n",
    "#card\n",
    "#os "
   ]
  }
 ],
 "metadata": {
  "kernelspec": {
   "display_name": "Python 3",
   "language": "python",
   "name": "python3"
  },
  "language_info": {
   "codemirror_mode": {
    "name": "ipython",
    "version": 3
   },
   "file_extension": ".py",
   "mimetype": "text/x-python",
   "name": "python",
   "nbconvert_exporter": "python",
   "pygments_lexer": "ipython3",
   "version": "3.8.8"
  }
 },
 "nbformat": 4,
 "nbformat_minor": 5
}
